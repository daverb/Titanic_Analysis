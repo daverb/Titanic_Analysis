{
 "metadata": {
  "name": "",
  "signature": "sha256:28f4c65e10973f42fbc58e7749f62f57d85a3dd01df706b96840820efc721874"
 },
 "nbformat": 3,
 "nbformat_minor": 0,
 "worksheets": [
  {
   "cells": [
    {
     "cell_type": "markdown",
     "metadata": {},
     "source": [
      "## Titanic: Machine Learning from Disaster\n",
      "---\n",
      "###Predict survival on the Titanic (with tutorials in Excel, Python, R, and an introduction to Random Forests)\n",
      "\n",
      "The sinking of the RMS Titanic is one of the most infamous shipwrecks in history.  On April 15, 1912, during her maiden voyage, the Titanic sank after colliding with an iceberg, killing 1502 out of 2224 passengers and crew. This sensational tragedy shocked the international community and led to better safety regulations for ships.\n",
      "\n",
      "One of the reasons that the shipwreck led to such loss of life was that there were not enough lifeboats for the passengers and crew. Although there was some element of luck involved in surviving the sinking, some groups of people were more likely to survive than others, such as women, children, and the upper-class.\n",
      "\n",
      "In this challenge, we ask you to complete the analysis of what sorts of people were likely to survive. In particular, we ask you to apply the tools of machine learning to predict which passengers survived the tragedy.\n",
      "\n",
      "<img src=\"files/titanic.jpg\">"
     ]
    },
    {
     "cell_type": "markdown",
     "metadata": {},
     "source": [
      "### Exploratory Analysis of Test Data\n",
      "---"
     ]
    },
    {
     "cell_type": "code",
     "collapsed": false,
     "input": [
      "import numpy as np\n",
      "import matplotlib.pyplot as plt\n",
      "import pandas as pd\n",
      "import sklearn\n",
      "%pylab inline"
     ],
     "language": "python",
     "metadata": {},
     "outputs": [
      {
       "output_type": "stream",
       "stream": "stdout",
       "text": [
        "Populating the interactive namespace from numpy and matplotlib\n"
       ]
      },
      {
       "output_type": "stream",
       "stream": "stderr",
       "text": [
        "WARNING: pylab import has clobbered these variables: ['colors']\n",
        "`%matplotlib` prevents importing * from pylab and numpy\n"
       ]
      }
     ],
     "prompt_number": 50
    },
    {
     "cell_type": "markdown",
     "metadata": {},
     "source": [
      "#### Below is a description of the header fields within the data set:\n",
      "```\n",
      "VARIABLE DESCRIPTIONS:\n",
      "survival        Survival\n",
      "                (0 = No; 1 = Yes)\n",
      "pclass          Passenger Class\n",
      "                (1 = 1st; 2 = 2nd; 3 = 3rd)\n",
      "name            Name\n",
      "sex             Sex\n",
      "age             Age\n",
      "sibsp           Number of Siblings/Spouses Aboard\n",
      "parch           Number of Parents/Children Aboard\n",
      "ticket          Ticket Number\n",
      "fare            Passenger Fare\n",
      "cabin           Cabin\n",
      "embarked        Port of Embarkation\n",
      "                (C = Cherbourg; Q = Queenstown; S = Southampton)\n",
      "\n",
      "SPECIAL NOTES:\n",
      "Pclass is a proxy for socio-economic status (SES)\n",
      " 1st ~ Upper; 2nd ~ Middle; 3rd ~ Lower\n",
      "\n",
      "Age is in Years; Fractional if Age less than One (1)\n",
      " If the Age is Estimated, it is in the form xx.5\n",
      "\n",
      "With respect to the family relation variables (i.e. sibsp and parch)\n",
      "some relations were ignored.  The following are the definitions used\n",
      "for sibsp and parch.\n",
      "\n",
      "Sibling:  Brother, Sister, Stepbrother, or Stepsister of Passenger Aboard Titanic\n",
      "Spouse:   Husband or Wife of Passenger Aboard Titanic (Mistresses and Fiances Ignored)\n",
      "Parent:   Mother or Father of Passenger Aboard Titanic\n",
      "Child:    Son, Daughter, Stepson, or Stepdaughter of Passenger Aboard Titanic\n",
      "\n",
      "Other family relatives excluded from this study include cousins,\n",
      "nephews/nieces, aunts/uncles, and in-laws.  Some children travelled\n",
      "only with a nanny, therefore parch=0 for them.  As well, some\n",
      "travelled with very close friends or neighbors in a village, however,\n",
      "the definitions do not support such relations.\n",
      "```"
     ]
    },
    {
     "cell_type": "markdown",
     "metadata": {},
     "source": [
      "#### Let's look at the training data set and see can any indicators of survival be deduced"
     ]
    },
    {
     "cell_type": "code",
     "collapsed": false,
     "input": [
      "test_data=pd.read_csv('train.csv')\n",
      "test_data.head(10)"
     ],
     "language": "python",
     "metadata": {},
     "outputs": [
      {
       "html": [
        "<div style=\"max-height:1000px;max-width:1500px;overflow:auto;\">\n",
        "<table border=\"1\" class=\"dataframe\">\n",
        "  <thead>\n",
        "    <tr style=\"text-align: right;\">\n",
        "      <th></th>\n",
        "      <th>PassengerId</th>\n",
        "      <th>Survived</th>\n",
        "      <th>Pclass</th>\n",
        "      <th>Name</th>\n",
        "      <th>Sex</th>\n",
        "      <th>Age</th>\n",
        "      <th>SibSp</th>\n",
        "      <th>Parch</th>\n",
        "      <th>Ticket</th>\n",
        "      <th>Fare</th>\n",
        "      <th>Cabin</th>\n",
        "      <th>Embarked</th>\n",
        "    </tr>\n",
        "  </thead>\n",
        "  <tbody>\n",
        "    <tr>\n",
        "      <th>0</th>\n",
        "      <td>  1</td>\n",
        "      <td> 0</td>\n",
        "      <td> 3</td>\n",
        "      <td>                           Braund, Mr. Owen Harris</td>\n",
        "      <td>   male</td>\n",
        "      <td> 22</td>\n",
        "      <td> 1</td>\n",
        "      <td> 0</td>\n",
        "      <td>        A/5 21171</td>\n",
        "      <td>  7.2500</td>\n",
        "      <td>  NaN</td>\n",
        "      <td> S</td>\n",
        "    </tr>\n",
        "    <tr>\n",
        "      <th>1</th>\n",
        "      <td>  2</td>\n",
        "      <td> 1</td>\n",
        "      <td> 1</td>\n",
        "      <td> Cumings, Mrs. John Bradley (Florence Briggs Th...</td>\n",
        "      <td> female</td>\n",
        "      <td> 38</td>\n",
        "      <td> 1</td>\n",
        "      <td> 0</td>\n",
        "      <td>         PC 17599</td>\n",
        "      <td> 71.2833</td>\n",
        "      <td>  C85</td>\n",
        "      <td> C</td>\n",
        "    </tr>\n",
        "    <tr>\n",
        "      <th>2</th>\n",
        "      <td>  3</td>\n",
        "      <td> 1</td>\n",
        "      <td> 3</td>\n",
        "      <td>                            Heikkinen, Miss. Laina</td>\n",
        "      <td> female</td>\n",
        "      <td> 26</td>\n",
        "      <td> 0</td>\n",
        "      <td> 0</td>\n",
        "      <td> STON/O2. 3101282</td>\n",
        "      <td>  7.9250</td>\n",
        "      <td>  NaN</td>\n",
        "      <td> S</td>\n",
        "    </tr>\n",
        "    <tr>\n",
        "      <th>3</th>\n",
        "      <td>  4</td>\n",
        "      <td> 1</td>\n",
        "      <td> 1</td>\n",
        "      <td>      Futrelle, Mrs. Jacques Heath (Lily May Peel)</td>\n",
        "      <td> female</td>\n",
        "      <td> 35</td>\n",
        "      <td> 1</td>\n",
        "      <td> 0</td>\n",
        "      <td>           113803</td>\n",
        "      <td> 53.1000</td>\n",
        "      <td> C123</td>\n",
        "      <td> S</td>\n",
        "    </tr>\n",
        "    <tr>\n",
        "      <th>4</th>\n",
        "      <td>  5</td>\n",
        "      <td> 0</td>\n",
        "      <td> 3</td>\n",
        "      <td>                          Allen, Mr. William Henry</td>\n",
        "      <td>   male</td>\n",
        "      <td> 35</td>\n",
        "      <td> 0</td>\n",
        "      <td> 0</td>\n",
        "      <td>           373450</td>\n",
        "      <td>  8.0500</td>\n",
        "      <td>  NaN</td>\n",
        "      <td> S</td>\n",
        "    </tr>\n",
        "    <tr>\n",
        "      <th>5</th>\n",
        "      <td>  6</td>\n",
        "      <td> 0</td>\n",
        "      <td> 3</td>\n",
        "      <td>                                  Moran, Mr. James</td>\n",
        "      <td>   male</td>\n",
        "      <td>NaN</td>\n",
        "      <td> 0</td>\n",
        "      <td> 0</td>\n",
        "      <td>           330877</td>\n",
        "      <td>  8.4583</td>\n",
        "      <td>  NaN</td>\n",
        "      <td> Q</td>\n",
        "    </tr>\n",
        "    <tr>\n",
        "      <th>6</th>\n",
        "      <td>  7</td>\n",
        "      <td> 0</td>\n",
        "      <td> 1</td>\n",
        "      <td>                           McCarthy, Mr. Timothy J</td>\n",
        "      <td>   male</td>\n",
        "      <td> 54</td>\n",
        "      <td> 0</td>\n",
        "      <td> 0</td>\n",
        "      <td>            17463</td>\n",
        "      <td> 51.8625</td>\n",
        "      <td>  E46</td>\n",
        "      <td> S</td>\n",
        "    </tr>\n",
        "    <tr>\n",
        "      <th>7</th>\n",
        "      <td>  8</td>\n",
        "      <td> 0</td>\n",
        "      <td> 3</td>\n",
        "      <td>                    Palsson, Master. Gosta Leonard</td>\n",
        "      <td>   male</td>\n",
        "      <td>  2</td>\n",
        "      <td> 3</td>\n",
        "      <td> 1</td>\n",
        "      <td>           349909</td>\n",
        "      <td> 21.0750</td>\n",
        "      <td>  NaN</td>\n",
        "      <td> S</td>\n",
        "    </tr>\n",
        "    <tr>\n",
        "      <th>8</th>\n",
        "      <td>  9</td>\n",
        "      <td> 1</td>\n",
        "      <td> 3</td>\n",
        "      <td> Johnson, Mrs. Oscar W (Elisabeth Vilhelmina Berg)</td>\n",
        "      <td> female</td>\n",
        "      <td> 27</td>\n",
        "      <td> 0</td>\n",
        "      <td> 2</td>\n",
        "      <td>           347742</td>\n",
        "      <td> 11.1333</td>\n",
        "      <td>  NaN</td>\n",
        "      <td> S</td>\n",
        "    </tr>\n",
        "    <tr>\n",
        "      <th>9</th>\n",
        "      <td> 10</td>\n",
        "      <td> 1</td>\n",
        "      <td> 2</td>\n",
        "      <td>               Nasser, Mrs. Nicholas (Adele Achem)</td>\n",
        "      <td> female</td>\n",
        "      <td> 14</td>\n",
        "      <td> 1</td>\n",
        "      <td> 0</td>\n",
        "      <td>           237736</td>\n",
        "      <td> 30.0708</td>\n",
        "      <td>  NaN</td>\n",
        "      <td> C</td>\n",
        "    </tr>\n",
        "  </tbody>\n",
        "</table>\n",
        "</div>"
       ],
       "metadata": {},
       "output_type": "pyout",
       "prompt_number": 51,
       "text": [
        "   PassengerId  Survived  Pclass  \\\n",
        "0            1         0       3   \n",
        "1            2         1       1   \n",
        "2            3         1       3   \n",
        "3            4         1       1   \n",
        "4            5         0       3   \n",
        "5            6         0       3   \n",
        "6            7         0       1   \n",
        "7            8         0       3   \n",
        "8            9         1       3   \n",
        "9           10         1       2   \n",
        "\n",
        "                                                Name     Sex  Age  SibSp  \\\n",
        "0                            Braund, Mr. Owen Harris    male   22      1   \n",
        "1  Cumings, Mrs. John Bradley (Florence Briggs Th...  female   38      1   \n",
        "2                             Heikkinen, Miss. Laina  female   26      0   \n",
        "3       Futrelle, Mrs. Jacques Heath (Lily May Peel)  female   35      1   \n",
        "4                           Allen, Mr. William Henry    male   35      0   \n",
        "5                                   Moran, Mr. James    male  NaN      0   \n",
        "6                            McCarthy, Mr. Timothy J    male   54      0   \n",
        "7                     Palsson, Master. Gosta Leonard    male    2      3   \n",
        "8  Johnson, Mrs. Oscar W (Elisabeth Vilhelmina Berg)  female   27      0   \n",
        "9                Nasser, Mrs. Nicholas (Adele Achem)  female   14      1   \n",
        "\n",
        "   Parch            Ticket     Fare Cabin Embarked  \n",
        "0      0         A/5 21171   7.2500   NaN        S  \n",
        "1      0          PC 17599  71.2833   C85        C  \n",
        "2      0  STON/O2. 3101282   7.9250   NaN        S  \n",
        "3      0            113803  53.1000  C123        S  \n",
        "4      0            373450   8.0500   NaN        S  \n",
        "5      0            330877   8.4583   NaN        Q  \n",
        "6      0             17463  51.8625   E46        S  \n",
        "7      1            349909  21.0750   NaN        S  \n",
        "8      2            347742  11.1333   NaN        S  \n",
        "9      0            237736  30.0708   NaN        C  "
       ]
      }
     ],
     "prompt_number": 51
    },
    {
     "cell_type": "code",
     "collapsed": false,
     "input": [
      "test_data = test_data.drop(['Ticket','Cabin'], axis=1)\n",
      "# Remove NaN values\n",
      "test_data = test_data.dropna()"
     ],
     "language": "python",
     "metadata": {},
     "outputs": [],
     "prompt_number": 52
    },
    {
     "cell_type": "code",
     "collapsed": false,
     "input": [
      "test_data.head(10)"
     ],
     "language": "python",
     "metadata": {},
     "outputs": [
      {
       "html": [
        "<div style=\"max-height:1000px;max-width:1500px;overflow:auto;\">\n",
        "<table border=\"1\" class=\"dataframe\">\n",
        "  <thead>\n",
        "    <tr style=\"text-align: right;\">\n",
        "      <th></th>\n",
        "      <th>PassengerId</th>\n",
        "      <th>Survived</th>\n",
        "      <th>Pclass</th>\n",
        "      <th>Name</th>\n",
        "      <th>Sex</th>\n",
        "      <th>Age</th>\n",
        "      <th>SibSp</th>\n",
        "      <th>Parch</th>\n",
        "      <th>Fare</th>\n",
        "      <th>Embarked</th>\n",
        "    </tr>\n",
        "  </thead>\n",
        "  <tbody>\n",
        "    <tr>\n",
        "      <th>0 </th>\n",
        "      <td>  1</td>\n",
        "      <td> 0</td>\n",
        "      <td> 3</td>\n",
        "      <td>                           Braund, Mr. Owen Harris</td>\n",
        "      <td>   male</td>\n",
        "      <td> 22</td>\n",
        "      <td> 1</td>\n",
        "      <td> 0</td>\n",
        "      <td>  7.2500</td>\n",
        "      <td> S</td>\n",
        "    </tr>\n",
        "    <tr>\n",
        "      <th>1 </th>\n",
        "      <td>  2</td>\n",
        "      <td> 1</td>\n",
        "      <td> 1</td>\n",
        "      <td> Cumings, Mrs. John Bradley (Florence Briggs Th...</td>\n",
        "      <td> female</td>\n",
        "      <td> 38</td>\n",
        "      <td> 1</td>\n",
        "      <td> 0</td>\n",
        "      <td> 71.2833</td>\n",
        "      <td> C</td>\n",
        "    </tr>\n",
        "    <tr>\n",
        "      <th>2 </th>\n",
        "      <td>  3</td>\n",
        "      <td> 1</td>\n",
        "      <td> 3</td>\n",
        "      <td>                            Heikkinen, Miss. Laina</td>\n",
        "      <td> female</td>\n",
        "      <td> 26</td>\n",
        "      <td> 0</td>\n",
        "      <td> 0</td>\n",
        "      <td>  7.9250</td>\n",
        "      <td> S</td>\n",
        "    </tr>\n",
        "    <tr>\n",
        "      <th>3 </th>\n",
        "      <td>  4</td>\n",
        "      <td> 1</td>\n",
        "      <td> 1</td>\n",
        "      <td>      Futrelle, Mrs. Jacques Heath (Lily May Peel)</td>\n",
        "      <td> female</td>\n",
        "      <td> 35</td>\n",
        "      <td> 1</td>\n",
        "      <td> 0</td>\n",
        "      <td> 53.1000</td>\n",
        "      <td> S</td>\n",
        "    </tr>\n",
        "    <tr>\n",
        "      <th>4 </th>\n",
        "      <td>  5</td>\n",
        "      <td> 0</td>\n",
        "      <td> 3</td>\n",
        "      <td>                          Allen, Mr. William Henry</td>\n",
        "      <td>   male</td>\n",
        "      <td> 35</td>\n",
        "      <td> 0</td>\n",
        "      <td> 0</td>\n",
        "      <td>  8.0500</td>\n",
        "      <td> S</td>\n",
        "    </tr>\n",
        "    <tr>\n",
        "      <th>6 </th>\n",
        "      <td>  7</td>\n",
        "      <td> 0</td>\n",
        "      <td> 1</td>\n",
        "      <td>                           McCarthy, Mr. Timothy J</td>\n",
        "      <td>   male</td>\n",
        "      <td> 54</td>\n",
        "      <td> 0</td>\n",
        "      <td> 0</td>\n",
        "      <td> 51.8625</td>\n",
        "      <td> S</td>\n",
        "    </tr>\n",
        "    <tr>\n",
        "      <th>7 </th>\n",
        "      <td>  8</td>\n",
        "      <td> 0</td>\n",
        "      <td> 3</td>\n",
        "      <td>                    Palsson, Master. Gosta Leonard</td>\n",
        "      <td>   male</td>\n",
        "      <td>  2</td>\n",
        "      <td> 3</td>\n",
        "      <td> 1</td>\n",
        "      <td> 21.0750</td>\n",
        "      <td> S</td>\n",
        "    </tr>\n",
        "    <tr>\n",
        "      <th>8 </th>\n",
        "      <td>  9</td>\n",
        "      <td> 1</td>\n",
        "      <td> 3</td>\n",
        "      <td> Johnson, Mrs. Oscar W (Elisabeth Vilhelmina Berg)</td>\n",
        "      <td> female</td>\n",
        "      <td> 27</td>\n",
        "      <td> 0</td>\n",
        "      <td> 2</td>\n",
        "      <td> 11.1333</td>\n",
        "      <td> S</td>\n",
        "    </tr>\n",
        "    <tr>\n",
        "      <th>9 </th>\n",
        "      <td> 10</td>\n",
        "      <td> 1</td>\n",
        "      <td> 2</td>\n",
        "      <td>               Nasser, Mrs. Nicholas (Adele Achem)</td>\n",
        "      <td> female</td>\n",
        "      <td> 14</td>\n",
        "      <td> 1</td>\n",
        "      <td> 0</td>\n",
        "      <td> 30.0708</td>\n",
        "      <td> C</td>\n",
        "    </tr>\n",
        "    <tr>\n",
        "      <th>10</th>\n",
        "      <td> 11</td>\n",
        "      <td> 1</td>\n",
        "      <td> 3</td>\n",
        "      <td>                   Sandstrom, Miss. Marguerite Rut</td>\n",
        "      <td> female</td>\n",
        "      <td>  4</td>\n",
        "      <td> 1</td>\n",
        "      <td> 1</td>\n",
        "      <td> 16.7000</td>\n",
        "      <td> S</td>\n",
        "    </tr>\n",
        "  </tbody>\n",
        "</table>\n",
        "</div>"
       ],
       "metadata": {},
       "output_type": "pyout",
       "prompt_number": 53,
       "text": [
        "    PassengerId  Survived  Pclass  \\\n",
        "0             1         0       3   \n",
        "1             2         1       1   \n",
        "2             3         1       3   \n",
        "3             4         1       1   \n",
        "4             5         0       3   \n",
        "6             7         0       1   \n",
        "7             8         0       3   \n",
        "8             9         1       3   \n",
        "9            10         1       2   \n",
        "10           11         1       3   \n",
        "\n",
        "                                                 Name     Sex  Age  SibSp  \\\n",
        "0                             Braund, Mr. Owen Harris    male   22      1   \n",
        "1   Cumings, Mrs. John Bradley (Florence Briggs Th...  female   38      1   \n",
        "2                              Heikkinen, Miss. Laina  female   26      0   \n",
        "3        Futrelle, Mrs. Jacques Heath (Lily May Peel)  female   35      1   \n",
        "4                            Allen, Mr. William Henry    male   35      0   \n",
        "6                             McCarthy, Mr. Timothy J    male   54      0   \n",
        "7                      Palsson, Master. Gosta Leonard    male    2      3   \n",
        "8   Johnson, Mrs. Oscar W (Elisabeth Vilhelmina Berg)  female   27      0   \n",
        "9                 Nasser, Mrs. Nicholas (Adele Achem)  female   14      1   \n",
        "10                    Sandstrom, Miss. Marguerite Rut  female    4      1   \n",
        "\n",
        "    Parch     Fare Embarked  \n",
        "0       0   7.2500        S  \n",
        "1       0  71.2833        C  \n",
        "2       0   7.9250        S  \n",
        "3       0  53.1000        S  \n",
        "4       0   8.0500        S  \n",
        "6       0  51.8625        S  \n",
        "7       1  21.0750        S  \n",
        "8       2  11.1333        S  \n",
        "9       0  30.0708        C  \n",
        "10      1  16.7000        S  "
       ]
      }
     ],
     "prompt_number": 53
    },
    {
     "cell_type": "markdown",
     "metadata": {},
     "source": [
      "#### The charts created below show the gender distribution of survivors/fatalities:"
     ]
    },
    {
     "cell_type": "code",
     "collapsed": false,
     "input": [
      "# Bar chart to show fate of passengers\n",
      "\n",
      "fig = plt.figure(figsize(14,14), dpi=1600)\n",
      "colors=['Red', 'LightGreen']\n",
      "plt.subplot2grid((2,2),(0,1))\n",
      "test_data[\"Survived\"].value_counts().plot(kind='bar', alpha=0.7, color=colors)\n",
      "plt.ylabel('No. passengers'), plt.xlabel('0=Perished, 1=Survived')\n",
      "title('Perished vs Survived')\n",
      "\n",
      "# Gender distribution of passengers\n",
      "\n",
      "plt.subplot2grid((2,2),(0,0))\n",
      "colors=['DodgerBlue','Pink']\n",
      "test_data.Sex.value_counts().plot(kind='bar', alpha=0.6, color=colors)\n",
      "title('Gender distribution of passengers')\n",
      "\n",
      "#Calculate gender distrivution of survivors\n",
      "\n",
      "genderdist=test_data[['Survived', 'Sex']]\n",
      "ds=genderdist[genderdist.Survived==1]\n",
      "#dsm = number of male survivors\n",
      "dsm=ds.Sex.value_counts()['male']\n",
      "#dsf=number of female survivors\n",
      "dsf=ds.Sex.value_counts()['female']\n",
      "\n",
      "# Gender distribution of fatalities\n",
      "\n",
      "df=genderdist[genderdist.Survived==0]\n",
      "#dfm = number of male fatalities\n",
      "dfm=df.Sex.value_counts()['male']\n",
      "#dff = number of female fatalities\n",
      "dff=df.Sex.value_counts()['female']\n",
      "\n",
      "# Pie charts to show gender distribution of survivors/fatalities.\n",
      "# Gender distribution of survivors\n",
      "\n",
      "# make a square figure and axes)\n",
      "plt.subplot2grid((2,2),(1,0))\n",
      "\n",
      "# The slices will be ordered and plotted counter-clockwise.\n",
      "labels = ['Female', 'Male'] \n",
      "colors=['Pink','DodgerBlue']\n",
      "fracs = [dsf, dsm]\n",
      "explode=(0, 0.05)\n",
      "plt.pie(fracs, explode=explode, labels=labels, \n",
      "                autopct='%1.1f%%', shadow=True, startangle=90, colors=colors)\n",
      "title('Gender distribution of survivors')\n",
      "\n",
      "plt.subplot2grid((2,2),(1,1))\n",
      "fracs = [dff, dfm]\n",
      "plt.pie(fracs, explode=explode, labels=labels, \n",
      "                autopct='%1.1f%%', shadow=True, startangle=90, colors=colors)\n",
      "title('Gender distribution of fatalities')\n",
      "show()\n"
     ],
     "language": "python",
     "metadata": {},
     "outputs": [
      {
       "metadata": {},
       "output_type": "display_data",
       "png": "[encoded data removed]",
       "text": [
        "<matplotlib.figure.Figure at 0x102f35d30>"
       ]
      }
     ],
     "prompt_number": 54
    },
    {
     "cell_type": "markdown",
     "metadata": {},
     "source": [
      "From the charts we can see that there were a greater number of fatalities than survivors and despite there nearly being twice as many male male passengers, nearly 70% of the survivors were female. This confirms the famous line; \"Woman and children first.\"\n",
      "\n"
     ]
    },
    {
     "cell_type": "markdown",
     "metadata": {},
     "source": [
      "####And below we'll chart the survival rates by passenger class:"
     ]
    },
    {
     "cell_type": "code",
     "collapsed": false,
     "input": [
      "# Plot passengers per class\n",
      "fig = plt.figure(figsize(20,6), dpi=1600)\n",
      "plt.subplot2grid((1,3),(0,0))\n",
      "passv=test_data.Pclass.value_counts(sort=False)\n",
      "passv.plot(kind='bar', alpha=0.7)\n",
      "title('# Passenger per Class'), xlabel('Class'), ylabel('# of passengers')\n",
      "\n",
      "# Plot Survivors per class\n",
      "plt.subplot2grid((1,3),(0,1))\n",
      "classdf=test_data[['Survived','Pclass']]\n",
      "csurv=classdf[classdf.Survived==1]\n",
      "survv=csurv.Pclass.value_counts(sort=False)\n",
      "survv.plot(kind='bar', alpha=0.7, color='LightGreen')\n",
      "title('Survivors by Class'), xlabel('Class'), ylabel('# of passengers')\n",
      "\n",
      "#Plot fatalities per class\n",
      "plt.subplot2grid((1,3),(0,2))\n",
      "cfatal=classdf[classdf.Survived==0]\n",
      "fatalv=cfatal.Pclass.value_counts(sort=False)\n",
      "fatalv.plot(kind='bar', alpha=0.7, color='Red')\n",
      "title('Fatalities by Class'), xlabel('Class'), ylabel('# of passengers')\n",
      "show()\n",
      "\n",
      "# Percentage survival rate per class\n",
      "firstsurv=[survv[1]*100]/passv[1]\n",
      "print('The percentage of 1st class survivors is %d%%' %firstsurv)\n",
      "secsurv=[survv[2]*100]/passv[2]\n",
      "print('The percentage of 2nd class survivors is %d%%' %secsurv)\n",
      "thirdsurv=[survv[3]*100]/passv[3]\n",
      "print('The percentage of 3rd class survivors is %d%%' %thirdsurv)"
     ],
     "language": "python",
     "metadata": {},
     "outputs": [
      {
       "metadata": {},
       "output_type": "display_data",
       "png": "[encoded data removed]",
       "text": [
        "<matplotlib.figure.Figure at 0x109642a90>"
       ]
      },
      {
       "output_type": "stream",
       "stream": "stdout",
       "text": [
        "The percentage of 1st class survivors is 65%\n",
        "The percentage of 2nd class survivors is 47%\n",
        "The percentage of 3rd class survivors is 23%\n"
       ]
      }
     ],
     "prompt_number": 55
    },
    {
     "cell_type": "markdown",
     "metadata": {},
     "source": [
      "From the above data we can see that there were more third class passengers than first and second combined. Despite there being less than half the number of first class passengers than third class, there were a greater number of first class survivors.\n",
      "\n",
      "The odds of survival were greatly diminished for each class a passenger descended, with less than one in four third class passengers surviving.\n",
      "\n",
      "From this quick analysis we can deduce that the passenger that had the greatest chance of survival was a female, first class passenger and the least chance of survival belonged to a male, third class passenger. We can definitively state that gender, class are strong factors in a passengers chance of survival."
     ]
    },
    {
     "cell_type": "markdown",
     "metadata": {},
     "source": [
      "## Missing Data"
     ]
    },
    {
     "cell_type": "markdown",
     "metadata": {},
     "source": [
      "Now that we have analysed our data and have developed some thoughts as to the influential factors in a passengers survival, we must engineer our data into a format that we can work with for Machine Learning purposes.\n",
      "\n",
      "If we look at the below data we can see that there are a number of non-numeric data types which must be converted to numeric and there are missing values from 'Age', 'Cabin' and 'Embarked'."
     ]
    },
    {
     "cell_type": "code",
     "collapsed": false,
     "input": [
      "df=pd.read_csv('train.csv',header=0)\n",
      "df.info()"
     ],
     "language": "python",
     "metadata": {},
     "outputs": [
      {
       "output_type": "stream",
       "stream": "stdout",
       "text": [
        "<class 'pandas.core.frame.DataFrame'>\n",
        "Int64Index: 891 entries, 0 to 890\n",
        "Data columns (total 12 columns):\n",
        "PassengerId    891 non-null int64\n",
        "Survived       891 non-null int64\n",
        "Pclass         891 non-null int64\n",
        "Name           891 non-null object\n",
        "Sex            891 non-null object\n",
        "Age            714 non-null float64\n",
        "SibSp          891 non-null int64\n",
        "Parch          891 non-null int64\n",
        "Ticket         891 non-null object\n",
        "Fare           891 non-null float64\n",
        "Cabin          204 non-null object\n",
        "Embarked       889 non-null object\n",
        "dtypes: float64(2), int64(5), object(5)"
       ]
      }
     ],
     "prompt_number": 56
    },
    {
     "cell_type": "markdown",
     "metadata": {},
     "source": [
      "Lets drop some data that may not contribute any value to our model."
     ]
    },
    {
     "cell_type": "code",
     "collapsed": false,
     "input": [
      "df=df.drop(['Name','Cabin','Ticket'],axis=1)\n",
      "df.info()"
     ],
     "language": "python",
     "metadata": {},
     "outputs": [
      {
       "output_type": "stream",
       "stream": "stdout",
       "text": [
        "<class 'pandas.core.frame.DataFrame'>\n",
        "Int64Index: 891 entries, 0 to 890\n",
        "Data columns (total 9 columns):\n",
        "PassengerId    891 non-null int64\n",
        "Survived       891 non-null int64\n",
        "Pclass         891 non-null int64\n",
        "Sex            891 non-null object\n",
        "Age            714 non-null float64\n",
        "SibSp          891 non-null int64\n",
        "Parch          891 non-null int64\n",
        "Fare           891 non-null float64\n",
        "Embarked       889 non-null object\n",
        "dtypes: float64(2), int64(5), object(2)"
       ]
      }
     ],
     "prompt_number": 57
    },
    {
     "cell_type": "markdown",
     "metadata": {},
     "source": [
      "With 'Age' missing so many values, we could drop all rows that are empty (NaN) but that would mean dropping nearly 200 rows of data in what is already a relatively small data set, we would be wasting a lot of data.\n",
      "\n",
      "Luckily, Pandas has a handy interpolate() function that we can use to fill in the missing values. This may not be a perfect approach but it is a start in order to get our initial model working."
     ]
    },
    {
     "cell_type": "code",
     "collapsed": false,
     "input": [
      "df['Age']=df['Age'].interpolate()\n",
      "df.info()"
     ],
     "language": "python",
     "metadata": {},
     "outputs": [
      {
       "output_type": "stream",
       "stream": "stdout",
       "text": [
        "<class 'pandas.core.frame.DataFrame'>\n",
        "Int64Index: 891 entries, 0 to 890\n",
        "Data columns (total 9 columns):\n",
        "PassengerId    891 non-null int64\n",
        "Survived       891 non-null int64\n",
        "Pclass         891 non-null int64\n",
        "Sex            891 non-null object\n",
        "Age            891 non-null float64\n",
        "SibSp          891 non-null int64\n",
        "Parch          891 non-null int64\n",
        "Fare           891 non-null float64\n",
        "Embarked       889 non-null object\n",
        "dtypes: float64(2), int64(5), object(2)"
       ]
      }
     ],
     "prompt_number": 58
    },
    {
     "cell_type": "markdown",
     "metadata": {},
     "source": [
      "We now have a full set of values, however we need to convert our non-numeric columns into numeric. We can do this by converting Pclass, Sex and Embarked into columns, using the handy get_dummies() function:"
     ]
    },
    {
     "cell_type": "code",
     "collapsed": false,
     "input": [
      "dummies=[]\n",
      "cols=['Pclass','Sex','Embarked']\n",
      "for cols in cols:\n",
      "    dummies.append(pd.get_dummies(df[cols]))\n",
      "    \n",
      "titanic_dummies=pd.concat(dummies, axis=1)\n",
      "\n",
      "#Now concat the dummies on to the original data frame then drop the original non-numeric columns.\n",
      "df=pd.concat((df,titanic_dummies),axis=1)\n",
      "df=df.drop(['Sex','Pclass','Embarked'],axis=1)\n",
      "df.info()"
     ],
     "language": "python",
     "metadata": {},
     "outputs": [
      {
       "output_type": "stream",
       "stream": "stdout",
       "text": [
        "<class 'pandas.core.frame.DataFrame'>\n",
        "Int64Index: 891 entries, 0 to 890\n",
        "Data columns (total 14 columns):\n",
        "PassengerId    891 non-null int64\n",
        "Survived       891 non-null int64\n",
        "Age            891 non-null float64\n",
        "SibSp          891 non-null int64\n",
        "Parch          891 non-null int64\n",
        "Fare           891 non-null float64\n",
        "1              891 non-null float64\n",
        "2              891 non-null float64\n",
        "3              891 non-null float64\n",
        "female         891 non-null float64\n",
        "male           891 non-null float64\n",
        "C              891 non-null float64\n",
        "Q              891 non-null float64\n",
        "S              891 non-null float64\n",
        "dtypes: float64(10), int64(4)"
       ]
      }
     ],
     "prompt_number": 59
    },
    {
     "cell_type": "markdown",
     "metadata": {},
     "source": [
      "Now we have a clean, numeric data set with no missing values with which to build our machine learning model."
     ]
    },
    {
     "cell_type": "markdown",
     "metadata": {},
     "source": [
      "# Machine Learning"
     ]
    },
    {
     "cell_type": "markdown",
     "metadata": {},
     "source": [
      "For this task I have elected to use a Random Forest method, which is classified as an ensemble machine learning method.\n",
      "\n",
      "In machine learning we normally attribute 'X' (large X) as our input attribute and 'y' (small y) as out output attribute, in this case it is the survived result."
     ]
    },
    {
     "cell_type": "code",
     "collapsed": false,
     "input": [
      "X=df.values\n",
      "y=df['Survived'].values\n",
      "X=np.delete(X,1,axis=1)"
     ],
     "language": "python",
     "metadata": {},
     "outputs": [],
     "prompt_number": 101
    },
    {
     "cell_type": "markdown",
     "metadata": {},
     "source": [
      "Now we can split the data set for 70% training and 30% test using scikit's cross validation function."
     ]
    },
    {
     "cell_type": "code",
     "collapsed": false,
     "input": [
      "import sklearn\n",
      "from sklearn import cross_validation\n",
      "X_train, X_test, y_train, y_test = cross_validation.train_test_split(X,y,test_size=0.25,random_state=0)"
     ],
     "language": "python",
     "metadata": {},
     "outputs": [],
     "prompt_number": 102
    },
    {
     "cell_type": "markdown",
     "metadata": {},
     "source": [
      "Now we can begin building our Random Forest model"
     ]
    },
    {
     "cell_type": "code",
     "collapsed": false,
     "input": [
      "from sklearn import ensemble\n",
      "clf = ensemble.RandomForestClassifier(n_estimators=100)\n",
      "clf.fit(X_train,y_train)\n",
      "clf.score(X_test,y_test)"
     ],
     "language": "python",
     "metadata": {},
     "outputs": [
      {
       "metadata": {},
       "output_type": "pyout",
       "prompt_number": 103,
       "text": [
        "0.80717488789237668"
       ]
      }
     ],
     "prompt_number": 103
    },
    {
     "cell_type": "markdown",
     "metadata": {},
     "source": [
      "We can see our basic Random Forest model gives an accuracy result of over 80% which is pretty good for this challenge. We can use the gradient boosting algorithm to try and increase the accuracy a bit."
     ]
    },
    {
     "cell_type": "code",
     "collapsed": false,
     "input": [
      "clf=ensemble.GradientBoostingClassifier()\n",
      "clf.fit (X_train, y_train)\n",
      "clf.score (X_test, y_test)"
     ],
     "language": "python",
     "metadata": {},
     "outputs": [
      {
       "metadata": {},
       "output_type": "pyout",
       "prompt_number": 104,
       "text": [
        "0.82511210762331844"
       ]
      }
     ],
     "prompt_number": 104
    },
    {
     "cell_type": "markdown",
     "metadata": {},
     "source": [
      "Pleasantly, we can see that the accuracy has improved slightly. Lets try one more."
     ]
    },
    {
     "cell_type": "code",
     "collapsed": false,
     "input": [
      "clf = ensemble.GradientBoostingClassifier(n_estimators=50)\n",
      "clf.fit(X_train,y_train)\n",
      "clf.score(X_test,y_test)"
     ],
     "language": "python",
     "metadata": {},
     "outputs": [
      {
       "metadata": {},
       "output_type": "pyout",
       "prompt_number": 107,
       "text": [
        "0.82959641255605376"
       ]
      }
     ],
     "prompt_number": 107
    },
    {
     "cell_type": "markdown",
     "metadata": {},
     "source": [
      "Great! Another marginal increase. This is a pretty decent result."
     ]
    },
    {
     "cell_type": "markdown",
     "metadata": {},
     "source": [
      "## Submitting to Kaggle\n",
      "\n",
      "Once we are happy with our model, it is time to make a first submission to Kaggle. The format required of the submission file is a CSV file with two columns, PassengerId and Survived. In order to create this file we must make a prediction based off the test data. To do this we transform and clean the test.csv file as we have done above so as they are of the same format. The python code to implement this can be found on my Github profile in the repository for this project, [github.com/daverb](https://github.com/daverb/Titanic_Analysis).\n",
      "\n",
      "Once the file is generated we can submit it to Kaggle which compares it to the actual Test.csv values that are hidden from the public. While the competition is still running, it only compares it against 50% of these values, with the final result for each participant posted when the competition ends.\n",
      "\n",
      "And here we can see the initial result:\n",
      "<img src=\"files/KaggleSubmission.png\">\n",
      "\n",
      "#### 78.469%\n",
      "A pretty good result and places us immediately in the top 40% of submissions but we can definitely improve on this. TBC..."
     ]
    }
   ],
   "metadata": {}
  }
 ]
}